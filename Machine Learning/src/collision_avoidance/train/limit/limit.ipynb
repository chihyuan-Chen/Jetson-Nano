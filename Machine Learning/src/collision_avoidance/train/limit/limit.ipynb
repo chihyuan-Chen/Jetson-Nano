{
 "cells": [
  {
   "cell_type": "code",
   "execution_count": null,
   "id": "b8128995-2c40-4d5d-a61b-d9d76c66ef66",
   "metadata": {},
   "outputs": [],
   "source": [
    "import traitlets\n",
    "from IPython.display import display\n",
    "import ipywidgets.widgets as widgets\n",
    "from jetbot import Camera, bgr8_to_jpeg\n",
    "\n",
    "camera = Camera.instance(width=224, height=224)\n",
    "image = widgets.Image(format='jpeg', width=224, height=224)\n",
    "blocked_slider = widgets.FloatSlider(description='blocked', min=0.0, max=1.0, orientation='vertical')\n",
    "speed_slider = widgets.FloatSlider(description='speed', min=0.0, max=0.5, value=0.0, step=0.01, orientation='horizontal')\n",
    "\n",
    "camera_link = traitlets.dlink((camera, 'value'), (image, 'value'), transform=bgr8_to_jpeg)\n",
    "\n",
    "display(widgets.VBox([widgets.HBox([image, blocked_slider]), speed_slider]))"
   ]
  },
  {
   "cell_type": "code",
   "execution_count": null,
   "id": "5f1bf39a-1907-4b76-88f9-654666ffd867",
   "metadata": {},
   "outputs": [],
   "source": [
    "from jetbot import Robot\n",
    "\n",
    "robot = Robot()"
   ]
  },
  {
   "cell_type": "code",
   "execution_count": null,
   "id": "e8326e40-62fb-450e-8675-6814aa8dfd75",
   "metadata": {},
   "outputs": [],
   "source": [
    "import torch\n",
    "import torchvision\n",
    "\n",
    "model = torchvision.models.alexnet(pretrained=False)\n",
    "model.classifier[6] = torch.nn.Linear(model.classifier[6].in_features, 2)"
   ]
  },
  {
   "cell_type": "code",
   "execution_count": null,
   "id": "d763bf33-813b-42e1-99fe-f1970b0049e3",
   "metadata": {},
   "outputs": [],
   "source": [
    "model.load_state_dict(torch.load('limit_model.pth'))"
   ]
  },
  {
   "cell_type": "code",
   "execution_count": null,
   "id": "32d5e175-9518-4ac3-be66-c13a58c8bd1a",
   "metadata": {},
   "outputs": [],
   "source": [
    "device = torch.device('cuda')\n",
    "model = model.to(device)"
   ]
  },
  {
   "cell_type": "code",
   "execution_count": null,
   "id": "afdde5d3-5e2b-4aff-b345-4381ea916ab1",
   "metadata": {},
   "outputs": [],
   "source": [
    "import cv2\n",
    "import numpy as np\n",
    "\n",
    "mean = 255.0 * np.array([0.485, 0.456, 0.406])\n",
    "stdev = 255.0 * np.array([0.229, 0.224, 0.225])\n",
    "\n",
    "normalize = torchvision.transforms.Normalize(mean, stdev)\n",
    "\n",
    "def preprocess(camera_value):\n",
    "    global device, normalize\n",
    "    x = camera_value\n",
    "    x = cv2.cvtColor(x, cv2.COLOR_BGR2RGB)\n",
    "    x = x.transpose((2, 0, 1))\n",
    "    x = torch.from_numpy(x).float()\n",
    "    x = normalize(x)\n",
    "    x = x.to(device)\n",
    "    x = x[None, ...]\n",
    "    return x"
   ]
  },
  {
   "cell_type": "code",
   "execution_count": null,
   "id": "edb57a3c-7633-461a-a655-aabd9888dff4",
   "metadata": {},
   "outputs": [],
   "source": [
    "import torch.nn.functional as F\n",
    "import time\n",
    "\n",
    "import RPi.GPIO as GPIO\n",
    "import traceback\n",
    "\n",
    "def update(change):\n",
    "    global blocked_slider, robot\n",
    "    x = change['new'] \n",
    "    x = preprocess(x)\n",
    "    y = model(x)\n",
    "    \n",
    "    # we apply the `softmax` function to normalize the output vector so it sums to 1 (which makes it a probability distribution)\n",
    "    y = F.softmax(y, dim=1)\n",
    "    \n",
    "    prob_blocked = float(y.flatten()[0])\n",
    "    \n",
    "    blocked_slider.value = prob_blocked\n",
    "    \n",
    "    try:\n",
    "        GPIO.setmode(GPIO.BCM)\n",
    "        GPIO.setwarnings(False)\n",
    "        GPIO.setup(18, GPIO.OUT, initial=GPIO.LOW)\n",
    "    \n",
    "        if prob_blocked < 0.5:\n",
    "            robot.forward(speed_slider.value)\n",
    "        else:\n",
    "            robot.left(speed_slider.value)\n",
    "            GPIO.output(18, GPIO.HIGH)\n",
    "            #time.sleep(0.001)\n",
    "            #GPIO.output(18, GPIO.LOW) \n",
    "        \n",
    "    except Exception as ex:\n",
    "        traceback.print_exc()\n",
    "        \n",
    "    finally:\n",
    "        GPIO.cleanup() #this ensures a clean exit\n",
    "        \n",
    "\n",
    "update({'new': camera.value})  # we call the function once to initialize"
   ]
  },
  {
   "cell_type": "code",
   "execution_count": null,
   "id": "d1ff73a4-6628-4fd8-808d-7f66d247c4e8",
   "metadata": {},
   "outputs": [],
   "source": [
    "camera.observe(update, names='value')  # this attaches the 'update' function to the 'value' traitlet of our camera"
   ]
  },
  {
   "cell_type": "code",
   "execution_count": null,
   "id": "5da1181d-fb69-475f-b6e8-9c8bc195e8ad",
   "metadata": {},
   "outputs": [],
   "source": [
    "import time\n",
    "\n",
    "camera.unobserve(update, names='value')\n",
    "\n",
    "time.sleep(0.1)  # add a small sleep to make sure frames have finished processing\n",
    "\n",
    "robot.stop()"
   ]
  },
  {
   "cell_type": "code",
   "execution_count": null,
   "id": "762db34d-856d-4fcc-baa1-a64af04d2bfd",
   "metadata": {},
   "outputs": [],
   "source": [
    "camera_link.unlink()  # don't stream to browser (will still run camera)"
   ]
  },
  {
   "cell_type": "code",
   "execution_count": null,
   "id": "bb496632-a8a7-4788-962a-f65e65f4fccf",
   "metadata": {},
   "outputs": [],
   "source": [
    "camera.stop()"
   ]
  },
  {
   "cell_type": "code",
   "execution_count": null,
   "id": "ed1cd8e2-8992-4146-902b-89158d4d0c03",
   "metadata": {},
   "outputs": [],
   "source": []
  },
  {
   "cell_type": "code",
   "execution_count": null,
   "id": "413e1b37-7ffe-472f-a30b-aa7360b86d08",
   "metadata": {},
   "outputs": [],
   "source": []
  },
  {
   "cell_type": "code",
   "execution_count": null,
   "id": "73d0d926-bc37-4b92-a626-eb8475c52104",
   "metadata": {},
   "outputs": [],
   "source": []
  },
  {
   "cell_type": "code",
   "execution_count": null,
   "id": "7d148692-34f2-4682-87b3-a608ef36ab8b",
   "metadata": {},
   "outputs": [],
   "source": []
  },
  {
   "cell_type": "code",
   "execution_count": null,
   "id": "7bae89e8-cc09-4558-94bb-913525c56234",
   "metadata": {},
   "outputs": [],
   "source": []
  },
  {
   "cell_type": "code",
   "execution_count": null,
   "id": "73cf7c5c-894b-49cc-94a0-7374c5e6e7f0",
   "metadata": {},
   "outputs": [],
   "source": []
  },
  {
   "cell_type": "code",
   "execution_count": null,
   "id": "1f22b9c0-5b39-45db-989a-6f691ba4bd18",
   "metadata": {},
   "outputs": [],
   "source": []
  },
  {
   "cell_type": "code",
   "execution_count": null,
   "id": "0e13362e-241f-4a0c-8ceb-4c76ac78d1c7",
   "metadata": {},
   "outputs": [],
   "source": []
  },
  {
   "cell_type": "code",
   "execution_count": null,
   "id": "6db1e121-510f-4899-a417-7c4c3b3bd5c5",
   "metadata": {},
   "outputs": [],
   "source": []
  },
  {
   "cell_type": "code",
   "execution_count": null,
   "id": "e43028fa-02c6-4d57-a744-eac887057458",
   "metadata": {},
   "outputs": [],
   "source": []
  },
  {
   "cell_type": "code",
   "execution_count": 1,
   "id": "1cc56311-3f38-48fa-83b6-fce641ee3559",
   "metadata": {},
   "outputs": [
    {
     "name": "stdout",
     "output_type": "stream",
     "text": [
      "Starting demo now! Press CTRL+C to exit\n",
      "Outputting 1 to pin 17\n",
      "Outputting 0 to pin 17\n",
      "Outputting 1 to pin 17\n",
      "Outputting 0 to pin 17\n",
      "Outputting 1 to pin 17\n",
      "Outputting 0 to pin 17\n",
      "Outputting 1 to pin 17\n",
      "Outputting 0 to pin 17\n",
      "Outputting 1 to pin 17\n",
      "Outputting 0 to pin 17\n",
      "Outputting 1 to pin 17\n",
      "Outputting 0 to pin 17\n",
      "Outputting 1 to pin 17\n",
      "Outputting 0 to pin 17\n",
      "Outputting 1 to pin 17\n",
      "Outputting 0 to pin 17\n",
      "Outputting 1 to pin 17\n",
      "Outputting 0 to pin 17\n",
      "Outputting 1 to pin 17\n",
      "Outputting 0 to pin 17\n",
      "Outputting 1 to pin 17\n",
      "Outputting 0 to pin 17\n",
      "Outputting 1 to pin 17\n",
      "Outputting 0 to pin 17\n",
      "Outputting 1 to pin 17\n",
      "Outputting 0 to pin 17\n",
      "Outputting 1 to pin 17\n",
      "Outputting 0 to pin 17\n",
      "Outputting 1 to pin 17\n",
      "Outputting 0 to pin 17\n",
      "Outputting 1 to pin 17\n",
      "Outputting 0 to pin 17\n",
      "Outputting 1 to pin 17\n",
      "Outputting 0 to pin 17\n",
      "Outputting 1 to pin 17\n",
      "Outputting 0 to pin 17\n"
     ]
    },
    {
     "ename": "KeyboardInterrupt",
     "evalue": "",
     "output_type": "error",
     "traceback": [
      "\u001b[0;31m---------------------------------------------------------------------------\u001b[0m",
      "\u001b[0;31mKeyboardInterrupt\u001b[0m                         Traceback (most recent call last)",
      "\u001b[0;32m<ipython-input-1-5dffbaf79988>\u001b[0m in \u001b[0;36m<module>\u001b[0;34m\u001b[0m\n\u001b[1;32m     19\u001b[0m \u001b[0;34m\u001b[0m\u001b[0m\n\u001b[1;32m     20\u001b[0m \u001b[0;32mif\u001b[0m \u001b[0m__name__\u001b[0m \u001b[0;34m==\u001b[0m \u001b[0;34m'__main__'\u001b[0m\u001b[0;34m:\u001b[0m\u001b[0;34m\u001b[0m\u001b[0;34m\u001b[0m\u001b[0m\n\u001b[0;32m---> 21\u001b[0;31m     \u001b[0mmain\u001b[0m\u001b[0;34m(\u001b[0m\u001b[0;34m)\u001b[0m\u001b[0;34m\u001b[0m\u001b[0;34m\u001b[0m\u001b[0m\n\u001b[0m",
      "\u001b[0;32m<ipython-input-1-5dffbaf79988>\u001b[0m in \u001b[0;36mmain\u001b[0;34m()\u001b[0m\n\u001b[1;32m     11\u001b[0m     \u001b[0;32mtry\u001b[0m\u001b[0;34m:\u001b[0m\u001b[0;34m\u001b[0m\u001b[0;34m\u001b[0m\u001b[0m\n\u001b[1;32m     12\u001b[0m         \u001b[0;32mwhile\u001b[0m \u001b[0;32mTrue\u001b[0m\u001b[0;34m:\u001b[0m\u001b[0;34m\u001b[0m\u001b[0;34m\u001b[0m\u001b[0m\n\u001b[0;32m---> 13\u001b[0;31m             \u001b[0mtime\u001b[0m\u001b[0;34m.\u001b[0m\u001b[0msleep\u001b[0m\u001b[0;34m(\u001b[0m\u001b[0;36m1\u001b[0m\u001b[0;34m)\u001b[0m\u001b[0;34m\u001b[0m\u001b[0;34m\u001b[0m\u001b[0m\n\u001b[0m\u001b[1;32m     14\u001b[0m             \u001b[0mprint\u001b[0m\u001b[0;34m(\u001b[0m\u001b[0;34m\"Outputting {} to pin {}\"\u001b[0m\u001b[0;34m.\u001b[0m\u001b[0mformat\u001b[0m\u001b[0;34m(\u001b[0m\u001b[0mcurr_value\u001b[0m\u001b[0;34m,\u001b[0m \u001b[0moutput_pin\u001b[0m\u001b[0;34m)\u001b[0m\u001b[0;34m)\u001b[0m\u001b[0;34m\u001b[0m\u001b[0;34m\u001b[0m\u001b[0m\n\u001b[1;32m     15\u001b[0m             \u001b[0mGPIO\u001b[0m\u001b[0;34m.\u001b[0m\u001b[0moutput\u001b[0m\u001b[0;34m(\u001b[0m\u001b[0moutput_pin\u001b[0m\u001b[0;34m,\u001b[0m \u001b[0mcurr_value\u001b[0m\u001b[0;34m)\u001b[0m\u001b[0;34m\u001b[0m\u001b[0;34m\u001b[0m\u001b[0m\n",
      "\u001b[0;31mKeyboardInterrupt\u001b[0m: "
     ]
    }
   ],
   "source": [
    "import RPi.GPIO as GPIO\n",
    "import time\n",
    "\n",
    "output_pin = 17\n",
    "\n",
    "def main():\n",
    "    GPIO.setmode(GPIO.BCM) \n",
    "    GPIO.setup(output_pin, GPIO.OUT, initial=GPIO.LOW)\n",
    "    print(\"Starting demo now! Press CTRL+C to exit\")\n",
    "    curr_value = GPIO.HIGH\n",
    "    try:\n",
    "        while True:\n",
    "            time.sleep(1)\n",
    "            print(\"Outputting {} to pin {}\".format(curr_value, output_pin))\n",
    "            GPIO.output(output_pin, curr_value)\n",
    "            curr_value ^= GPIO.HIGH\n",
    "    finally:\n",
    "        GPIO.cleanup()\n",
    "\n",
    "if __name__ == '__main__':\n",
    "    main() "
   ]
  },
  {
   "cell_type": "code",
   "execution_count": 1,
   "id": "03aa6dcf-088a-4296-9635-1d0b88d902b1",
   "metadata": {},
   "outputs": [],
   "source": [
    "import I2C_LCD_driver\n",
    "mylcd = I2C_LCD_driver.lcd()\n",
    "mylcd.lcd_display_string(\"Speed Limit\", 1,3)\n",
    "mylcd.lcd_display_string(\"Warning!!\", 2,4)"
   ]
  },
  {
   "cell_type": "code",
   "execution_count": null,
   "id": "f51fff62-7e8d-4f12-8f30-51dfd7a1ae0d",
   "metadata": {},
   "outputs": [],
   "source": [
    "import I2C_LCD_driver\n",
    "mylcd = I2C_LCD_driver.lcd()\n",
    "mylcd.lcd_display_string(\"Side Warning!!\", 1,2)"
   ]
  },
  {
   "cell_type": "code",
   "execution_count": null,
   "id": "d652382b-562b-4797-8ba3-fedb4e0afa18",
   "metadata": {},
   "outputs": [],
   "source": [
    "import I2C_LCD_driver\n",
    "mylcd = I2C_LCD_driver.lcd()\n",
    "mylcd.lcd_display_string(\"Pre - Crash\", 1,3)\n",
    "mylcd.lcd_display_string(\"Warning!!\", 2,4)"
   ]
  },
  {
   "cell_type": "code",
   "execution_count": 2,
   "id": "cb97c83f-a2d1-4ab6-ac9c-5f319e3edd24",
   "metadata": {},
   "outputs": [],
   "source": [
    "mylcd.lcd_clear()"
   ]
  },
  {
   "cell_type": "code",
   "execution_count": null,
   "id": "3959cd95-c907-4115-b273-acf4a152d9a2",
   "metadata": {},
   "outputs": [],
   "source": []
  }
 ],
 "metadata": {
  "kernelspec": {
   "display_name": "Python 3",
   "language": "python",
   "name": "python3"
  },
  "language_info": {
   "codemirror_mode": {
    "name": "ipython",
    "version": 3
   },
   "file_extension": ".py",
   "mimetype": "text/x-python",
   "name": "python",
   "nbconvert_exporter": "python",
   "pygments_lexer": "ipython3",
   "version": "3.6.9"
  }
 },
 "nbformat": 4,
 "nbformat_minor": 5
}
