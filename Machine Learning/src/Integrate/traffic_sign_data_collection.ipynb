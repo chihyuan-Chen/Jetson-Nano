{
 "cells": [
  {
   "cell_type": "code",
   "execution_count": 1,
   "id": "e0df946a-fb11-4158-93bd-5ada87874adf",
   "metadata": {},
   "outputs": [
    {
     "data": {
      "application/vnd.jupyter.widget-view+json": {
       "model_id": "6ea66ba1ae6d48619637bfb61913e69f",
       "version_major": 2,
       "version_minor": 0
      },
      "text/plain": [
       "Image(value=b'\\xff\\xd8\\xff\\xe0\\x00\\x10JFIF\\x00\\x01\\x01\\x00\\x00\\x01\\x00\\x01\\x00\\x00\\xff\\xdb\\x00C\\x00\\x02\\x01\\x0…"
      ]
     },
     "metadata": {},
     "output_type": "display_data"
    }
   ],
   "source": [
    "import traitlets\n",
    "import ipywidgets.widgets as widgets\n",
    "from IPython.display import display\n",
    "from jetbot import Camera, bgr8_to_jpeg\n",
    "\n",
    "camera = Camera.instance(width=224, height=224)\n",
    "\n",
    "image = widgets.Image(format='jpeg', width=224, height=224)  # this width and height doesn't necessarily have to match the camera\n",
    "\n",
    "camera_link = traitlets.dlink((camera, 'value'), (image, 'value'), transform=bgr8_to_jpeg)\n",
    "\n",
    "display(image)"
   ]
  },
  {
   "cell_type": "code",
   "execution_count": 2,
   "id": "a5f45003-74f4-4c46-8868-b268eec48f37",
   "metadata": {},
   "outputs": [
    {
     "name": "stdout",
     "output_type": "stream",
     "text": [
      "Directories not created because they already exist\n"
     ]
    }
   ],
   "source": [
    "import os\n",
    "\n",
    "limit_dir = 'traffic_dataset/limit'\n",
    "caution_dir = 'traffic_dataset/caution'\n",
    "pedestrian_dir = 'traffic_dataset/pedestrian'\n",
    "scooter_dir = 'traffic_dataset/scooter'\n",
    "car_dir = 'traffic_dataset/car'\n",
    "free_dir = 'traffic_dataset/free'\n",
    "\n",
    "# we have this \"try/except\" statement because these next functions can throw an error if the directories exist already\n",
    "try:\n",
    "    os.makedirs(free_dir)\n",
    "    os.makedirs(limit_dir)\n",
    "    os.makedirs(caution_dir)\n",
    "    os.makedirs(pedestrian_dir)\n",
    "    os.makedirs(scooter_dir)\n",
    "    os.makedirs(car_dir)\n",
    "except FileExistsError:\n",
    "    print('Directories not created because they already exist')"
   ]
  },
  {
   "cell_type": "code",
   "execution_count": 3,
   "id": "c9ef90f1-e486-4b3a-8eeb-6ac763cd961b",
   "metadata": {},
   "outputs": [
    {
     "data": {
      "application/vnd.jupyter.widget-view+json": {
       "model_id": "268f92788fea40a6aa62472f08dac520",
       "version_major": 2,
       "version_minor": 0
      },
      "text/plain": [
       "HBox(children=(IntText(value=100, layout=Layout(height='64px', width='128px')), Button(button_style='success',…"
      ]
     },
     "metadata": {},
     "output_type": "display_data"
    },
    {
     "data": {
      "application/vnd.jupyter.widget-view+json": {
       "model_id": "aa92cad86a414c3183439a94f4a575b4",
       "version_major": 2,
       "version_minor": 0
      },
      "text/plain": [
       "HBox(children=(IntText(value=100, layout=Layout(height='64px', width='128px')), Button(button_style='danger', …"
      ]
     },
     "metadata": {},
     "output_type": "display_data"
    },
    {
     "data": {
      "application/vnd.jupyter.widget-view+json": {
       "model_id": "495e572bd5a240e3834dee175646ced1",
       "version_major": 2,
       "version_minor": 0
      },
      "text/plain": [
       "HBox(children=(IntText(value=89, layout=Layout(height='64px', width='128px')), Button(button_style='danger', d…"
      ]
     },
     "metadata": {},
     "output_type": "display_data"
    },
    {
     "data": {
      "application/vnd.jupyter.widget-view+json": {
       "model_id": "002ce9a1ab854431bed52ffa4a95e615",
       "version_major": 2,
       "version_minor": 0
      },
      "text/plain": [
       "HBox(children=(IntText(value=38, layout=Layout(height='64px', width='128px')), Button(button_style='danger', d…"
      ]
     },
     "metadata": {},
     "output_type": "display_data"
    },
    {
     "data": {
      "application/vnd.jupyter.widget-view+json": {
       "model_id": "2f88139ac4d14757b9ae00f36e1d1766",
       "version_major": 2,
       "version_minor": 0
      },
      "text/plain": [
       "HBox(children=(IntText(value=38, layout=Layout(height='64px', width='128px')), Button(button_style='danger', d…"
      ]
     },
     "metadata": {},
     "output_type": "display_data"
    },
    {
     "data": {
      "application/vnd.jupyter.widget-view+json": {
       "model_id": "afbc8acfd8654c5993535c6bf06b59dd",
       "version_major": 2,
       "version_minor": 0
      },
      "text/plain": [
       "HBox(children=(IntText(value=0, layout=Layout(height='64px', width='128px')), Button(button_style='danger', de…"
      ]
     },
     "metadata": {},
     "output_type": "display_data"
    }
   ],
   "source": [
    "button_layout = widgets.Layout(width='128px', height='64px')\n",
    "\n",
    "free_button = widgets.Button(description='add free', button_style='success', layout=button_layout)\n",
    "limit_button = widgets.Button(description='add limit', button_style='danger', layout=button_layout)\n",
    "caution_button = widgets.Button(description='add caution', button_style='danger', layout=button_layout)\n",
    "pedestrian_button = widgets.Button(description='add pedestrian', button_style='danger', layout=button_layout)\n",
    "scooter_button = widgets.Button(description='add scooter', button_style='danger', layout=button_layout)\n",
    "car_button = widgets.Button(description='add car', button_style='danger', layout=button_layout)\n",
    "\n",
    "free_count = widgets.IntText(layout=button_layout, value=len(os.listdir(free_dir)))\n",
    "limit_count = widgets.IntText(layout=button_layout, value=len(os.listdir(limit_dir)))\n",
    "caution_count = widgets.IntText(layout=button_layout, value=len(os.listdir(caution_dir)))\n",
    "pedestrian_count = widgets.IntText(layout=button_layout, value=len(os.listdir(pedestrian_dir)))\n",
    "scooter_count = widgets.IntText(layout=button_layout, value=len(os.listdir(scooter_dir)))\n",
    "car_count = widgets.IntText(layout=button_layout, value=len(os.listdir(car_dir)))\n",
    "\n",
    "display(widgets.HBox([free_count, free_button]))\n",
    "display(widgets.HBox([limit_count, limit_button]))\n",
    "display(widgets.HBox([caution_count, caution_button]))\n",
    "display(widgets.HBox([pedestrian_count, pedestrian_button]))\n",
    "display(widgets.HBox([scooter_count, scooter_button]))\n",
    "display(widgets.HBox([car_count, car_button]))"
   ]
  },
  {
   "cell_type": "code",
   "execution_count": 4,
   "id": "5a54c775-a8eb-4a07-8543-742415dd6d8b",
   "metadata": {},
   "outputs": [],
   "source": [
    "from uuid import uuid1\n",
    "\n",
    "def save_snapshot(directory):\n",
    "    image_path = os.path.join(directory, str(uuid1()) + '.jpg')\n",
    "    with open(image_path, 'wb') as f:\n",
    "        f.write(image.value)\n",
    "\n",
    "def save_free():\n",
    "    global free_dir, free_count\n",
    "    save_snapshot(free_dir)\n",
    "    free_count.value = len(os.listdir(free_dir))\n",
    "    \n",
    "def save_limit():\n",
    "    global limit_dir, limit_count\n",
    "    save_snapshot(limit_dir)\n",
    "    limit_count.value = len(os.listdir(limit_dir))\n",
    "\n",
    "def save_caution():\n",
    "    global caution_dir, caution_count\n",
    "    save_snapshot(caution_dir)\n",
    "    caution_count.value = len(os.listdir(caution_dir))\n",
    "    \n",
    "def save_pedestrian():\n",
    "    global pedestrian_dir, pedestrian_count\n",
    "    save_snapshot(pedestrian_dir)\n",
    "    pedestrian_count.value = len(os.listdir(pedestrian_dir))\n",
    "\n",
    "def save_scooter():\n",
    "    global scooter_dir, scooter_count\n",
    "    save_snapshot(scooter_dir)\n",
    "    scooter_count.value = len(os.listdir(scooter_dir))\n",
    "\n",
    "def save_car():\n",
    "    global car_dir, car_count\n",
    "    save_snapshot(car_dir)\n",
    "    car_count.value = len(os.listdir(car_dir))\n",
    "    \n",
    "# attach the callbacks, we use a 'lambda' function to ignore the\n",
    "# parameter that the on_click event would provide to our function\n",
    "# because we don't need it.\n",
    "free_button.on_click(lambda x: save_free())\n",
    "limit_button.on_click(lambda x: save_limit())\n",
    "caution_button.on_click(lambda x: save_caution())\n",
    "pedestrian_button.on_click(lambda x: save_pedestrian())\n",
    "scooter_button.on_click(lambda x: save_scooter())\n",
    "car_button.on_click(lambda x: save_car())"
   ]
  },
  {
   "cell_type": "code",
   "execution_count": 5,
   "id": "5fb01a2c-c820-497d-9dfe-203823ff3173",
   "metadata": {},
   "outputs": [
    {
     "data": {
      "application/vnd.jupyter.widget-view+json": {
       "model_id": "6ea66ba1ae6d48619637bfb61913e69f",
       "version_major": 2,
       "version_minor": 0
      },
      "text/plain": [
       "Image(value=b'\\xff\\xd8\\xff\\xe0\\x00\\x10JFIF\\x00\\x01\\x01\\x00\\x00\\x01\\x00\\x01\\x00\\x00\\xff\\xdb\\x00C\\x00\\x02\\x01\\x0…"
      ]
     },
     "metadata": {},
     "output_type": "display_data"
    },
    {
     "data": {
      "application/vnd.jupyter.widget-view+json": {
       "model_id": "89bd5ce28b914af8a4261898bdc98472",
       "version_major": 2,
       "version_minor": 0
      },
      "text/plain": [
       "HBox(children=(IntText(value=100, layout=Layout(height='64px', width='128px')), Button(button_style='success',…"
      ]
     },
     "metadata": {},
     "output_type": "display_data"
    },
    {
     "data": {
      "application/vnd.jupyter.widget-view+json": {
       "model_id": "3046df4ce2124ea79ea7817dd2dcbd6e",
       "version_major": 2,
       "version_minor": 0
      },
      "text/plain": [
       "HBox(children=(IntText(value=100, layout=Layout(height='64px', width='128px')), Button(button_style='danger', …"
      ]
     },
     "metadata": {},
     "output_type": "display_data"
    },
    {
     "data": {
      "application/vnd.jupyter.widget-view+json": {
       "model_id": "30aa191d9908427eae47e662cc7a96d3",
       "version_major": 2,
       "version_minor": 0
      },
      "text/plain": [
       "HBox(children=(IntText(value=89, layout=Layout(height='64px', width='128px')), Button(button_style='danger', d…"
      ]
     },
     "metadata": {},
     "output_type": "display_data"
    },
    {
     "data": {
      "application/vnd.jupyter.widget-view+json": {
       "model_id": "b1a980d812da40d2b07749ccd8523c31",
       "version_major": 2,
       "version_minor": 0
      },
      "text/plain": [
       "HBox(children=(IntText(value=38, layout=Layout(height='64px', width='128px')), Button(button_style='danger', d…"
      ]
     },
     "metadata": {},
     "output_type": "display_data"
    },
    {
     "data": {
      "application/vnd.jupyter.widget-view+json": {
       "model_id": "ef6617d04d874239a1e97a75d56de702",
       "version_major": 2,
       "version_minor": 0
      },
      "text/plain": [
       "HBox(children=(IntText(value=38, layout=Layout(height='64px', width='128px')), Button(button_style='danger', d…"
      ]
     },
     "metadata": {},
     "output_type": "display_data"
    },
    {
     "data": {
      "application/vnd.jupyter.widget-view+json": {
       "model_id": "79fe826cedea49948f2d1e6b9b322563",
       "version_major": 2,
       "version_minor": 0
      },
      "text/plain": [
       "HBox(children=(IntText(value=0, layout=Layout(height='64px', width='128px')), Button(button_style='danger', de…"
      ]
     },
     "metadata": {},
     "output_type": "display_data"
    }
   ],
   "source": [
    "display(image)\n",
    "display(widgets.HBox([free_count, free_button]))\n",
    "display(widgets.HBox([limit_count, limit_button]))\n",
    "display(widgets.HBox([caution_count, caution_button]))\n",
    "display(widgets.HBox([pedestrian_count, pedestrian_button]))\n",
    "display(widgets.HBox([scooter_count, scooter_button]))\n",
    "display(widgets.HBox([car_count, car_button]))"
   ]
  },
  {
   "cell_type": "code",
   "execution_count": 6,
   "id": "cb621c6f-3e76-4187-abb1-82a1449232b4",
   "metadata": {},
   "outputs": [],
   "source": [
    "camera.stop()"
   ]
  },
  {
   "cell_type": "code",
   "execution_count": 7,
   "id": "c31997d0-08e9-4ca0-899c-24d114c7b442",
   "metadata": {},
   "outputs": [],
   "source": [
    "!zip -r -q traffic_dataset.zip traffic_dataset"
   ]
  },
  {
   "cell_type": "code",
   "execution_count": 2,
   "id": "83641be4-d134-45ca-9fa4-2639a2c72877",
   "metadata": {},
   "outputs": [],
   "source": [
    "!zip -r -q limit_dataset.zip limit_dataset"
   ]
  },
  {
   "cell_type": "code",
   "execution_count": 3,
   "id": "1974985b-6e65-466e-88b1-d7774b53cad0",
   "metadata": {},
   "outputs": [],
   "source": [
    "!zip -r -q pedestrian_dataset.zip pedestrian_dataset"
   ]
  },
  {
   "cell_type": "code",
   "execution_count": 2,
   "id": "d53798d6-a2fe-4799-9c19-8edb0a2eb967",
   "metadata": {},
   "outputs": [],
   "source": [
    "!zip -r -q caution_dataset.zip caution_dataset"
   ]
  },
  {
   "cell_type": "code",
   "execution_count": 1,
   "id": "07b340c9-a13c-4c03-97e3-05cced4166f5",
   "metadata": {},
   "outputs": [],
   "source": [
    "!zip -r -q car_dataset.zip car_dataset"
   ]
  },
  {
   "cell_type": "code",
   "execution_count": 4,
   "id": "e1291c62-bcf8-4e49-94ca-538427555b42",
   "metadata": {},
   "outputs": [],
   "source": [
    "!zip -r -q scooter_dataset.zip scooter_dataset"
   ]
  }
 ],
 "metadata": {
  "kernelspec": {
   "display_name": "Python 3",
   "language": "python",
   "name": "python3"
  },
  "language_info": {
   "codemirror_mode": {
    "name": "ipython",
    "version": 3
   },
   "file_extension": ".py",
   "mimetype": "text/x-python",
   "name": "python",
   "nbconvert_exporter": "python",
   "pygments_lexer": "ipython3",
   "version": "3.6.9"
  }
 },
 "nbformat": 4,
 "nbformat_minor": 5
}
